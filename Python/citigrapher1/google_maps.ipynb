{
 "cells": [
  {
   "cell_type": "markdown",
   "metadata": {},
   "source": [
    "# Central London Data Science Project Nights\n",
    "### Citigrapher 1: Google Maps API\n",
    "The focus of this meetup is in finding out different ways in which training data can be structure in order to improve a models accuracy.\n",
    "\n",
    "## Overview\n",
    "\n",
    "1. User input \n",
    "2. API query\n",
    "3. Storage & Extension\n",
    "\n",
    "These 3 parts will be demonstrated in the following tutorial and will give an idea\n",
    "of how a few packages can be used to tackle the problem."
   ]
  },
  {
   "cell_type": "markdown",
   "metadata": {},
   "source": [
    "## 1. User input\n",
    "\n",
    "The first thing that a user will want to do when using citigrapher is to input locations\n",
    "that represent their starting and final destinations. These may represent their work and\n",
    "home addresses respectively. We will want to be able to do this for a number of potential\n",
    "people."
   ]
  },
  {
   "cell_type": "code",
   "execution_count": 1,
   "metadata": {
    "collapsed": false
   },
   "outputs": [],
   "source": [
    "# User input function\n",
    "def request_user_address():\n",
    "    # Ask user for start address\n",
    "    startAddress = input('Enter a start location: ')\n",
    "    # Ask user for end address\n",
    "    finalAddress = input('Enter a final location: ')\n",
    "    return({'Start': startAddress, 'Final': finalAddress})"
   ]
  },
  {
   "cell_type": "markdown",
   "metadata": {},
   "source": [
    "We can now use this within a larger function to get everyone's addresses:"
   ]
  },
  {
   "cell_type": "code",
   "execution_count": 2,
   "metadata": {
    "collapsed": true
   },
   "outputs": [],
   "source": [
    "# User inputs function\n",
    "def request_all_user_addresses():\n",
    "    # Ask user for number of people\n",
    "    numPeople = int(input(\"How many people are we connecting: \"))\n",
    "\n",
    "    # Preinitialise results\n",
    "    res = {}\n",
    "\n",
    "    # Query this many times\n",
    "    for i in range(numPeople):\n",
    "        # give the user an idea of who the info is for\n",
    "        print(\"For person {}\".format(i))\n",
    "        res[i] = {}\n",
    "        res[i]['Location'] = request_user_address()\n",
    "\n",
    "    # And let's returnn this for further use\n",
    "    return(res)"
   ]
  },
  {
   "cell_type": "code",
   "execution_count": 4,
   "metadata": {
    "collapsed": false
   },
   "outputs": [
    {
     "name": "stdout",
     "output_type": "stream",
     "text": [
      "How many people are we connecting: 3\n",
      "For person 0\n",
      "Enter a start location: w120rq\n",
      "Enter a final location: sw165yr\n",
      "For person 1\n",
      "Enter a start location: nw17db\n",
      "Enter a final location: e10AA\n",
      "For person 2\n",
      "Enter a start location: sw111qn\n",
      "Enter a final location: se171je\n"
     ]
    }
   ],
   "source": [
    "userAddresses = request_all_user_addresses()"
   ]
  },
  {
   "cell_type": "markdown",
   "metadata": {},
   "source": [
    "The above will clearly be insufficient/annoying when there are lots of people, so in a future meetup\n",
    "we will be exploring how to best carry out local storage for a user so that they only ever have to enter\n",
    "information for a particular person once. I.e. if you have already entered your friend Bob's work and \n",
    "home addresses you don't want to do that every time, but simply ask the user whether they want to use\n",
    "Bob's default addresses. \n",
    "\n",
    "We will now pretend that we saved this output to file so we can use it in the next step, so we will \n",
    "now import it here:"
   ]
  },
  {
   "cell_type": "code",
   "execution_count": 5,
   "metadata": {
    "collapsed": false
   },
   "outputs": [
    {
     "data": {
      "text/plain": [
       "[['User', 'Start', 'End'],\n",
       " ['User1', 'W12 0RQ', 'SW16 5YR'],\n",
       " ['User2', 'NW1 7DB', 'E1 0AA'],\n",
       " ['User3', 'SW11 1QN', 'SE17 1JE']]"
      ]
     },
     "execution_count": 5,
     "metadata": {},
     "output_type": "execute_result"
    }
   ],
   "source": [
    "import csv\n",
    "userAddresses = list(csv.reader(open('inst/extdata/user_addresses.txt'), delimiter='\\t'))\n",
    "userAddresses"
   ]
  },
  {
   "cell_type": "code",
   "execution_count": 8,
   "metadata": {
    "collapsed": false
   },
   "outputs": [
    {
     "data": {
      "text/plain": [
       "{0: {'Location': {'End': 'SW16 5YR', 'Start': 'W12 0RQ'}},\n",
       " 1: {'Location': {'End': 'E1 0AA', 'Start': 'NW1 7DB'}},\n",
       " 2: {'Location': {'End': 'SE17 1JE', 'Start': 'SW11 1QN'}}}"
      ]
     },
     "execution_count": 8,
     "metadata": {},
     "output_type": "execute_result"
    }
   ],
   "source": [
    "## turn it into a dict output like above\n",
    "res = {}\n",
    "\n",
    "for i in range(0,len(userAddresses)-1):\n",
    "    res[i] = {}\n",
    "    res[i]['Location'] = {}\n",
    "    res[i]['Location']['Start'] = userAddresses[i+1][1]\n",
    "    res[i]['Location']['End'] = userAddresses[i+1][2]\n",
    "\n",
    "res"
   ]
  },
  {
   "cell_type": "markdown",
   "metadata": {},
   "source": [
    "## 2. API query\n",
    "\n",
    "With the addresses we will want to isolate which tube stops are best for each person's start and\n",
    "end destination. To do this we will use the igraph tube map object that is saved within the citigrapher repo,\n",
    "along with the ggmap package which is superb. First we will need to convert our addresses to lat long.\n",
    "To do this we will need to first install the geopy package. "
   ]
  },
  {
   "cell_type": "code",
   "execution_count": 20,
   "metadata": {
    "collapsed": false
   },
   "outputs": [
    {
     "name": "stdout",
     "output_type": "stream",
     "text": [
      "Requirement already satisfied: postcodes in c:\\users\\oliver\\anaconda3\\lib\\site-packages\n",
      "Requirement already satisfied: geopy in c:\\users\\oliver\\anaconda3\\lib\\site-packages\n"
     ]
    }
   ],
   "source": [
    "!pip install geopy\n",
    "from geopy.geocoders import Nominatim"
   ]
  },
  {
   "cell_type": "markdown",
   "metadata": {},
   "source": [
    "To demonstrate how geopy works, we can quickly get one lat/long for one of our user given postcodes as follows:"
   ]
  },
  {
   "cell_type": "code",
   "execution_count": 24,
   "metadata": {
    "collapsed": false
   },
   "outputs": [
    {
     "data": {
      "text/plain": [
       "(50.7848302, 8.094857)"
      ]
     },
     "execution_count": 24,
     "metadata": {},
     "output_type": "execute_result"
    }
   ],
   "source": [
    "geolocator = Nominatim()\n",
    "location = geolocator.geocode(res[1]['Location']['Start'])\n",
    "location.latitude, location.longitude"
   ]
  },
  {
   "cell_type": "markdown",
   "metadata": {},
   "source": [
    "Then let's build a function to query google for the lat long of our postcodes"
   ]
  },
  {
   "cell_type": "code",
   "execution_count": 25,
   "metadata": {
    "collapsed": true
   },
   "outputs": [],
   "source": [
    "def get_geo_details(postcode):     \n",
    "    # use the geopy package to query postcodes\n",
    "    geolocator = Nominatim()  \n",
    "    # now extract the bits that we need and return as dict\n",
    "    location = geolocator.geocode(postcode) \n",
    "    return({'lat': location.latitude, 'long': location.longitude})\n"
   ]
  },
  {
   "cell_type": "markdown",
   "metadata": {},
   "source": [
    "We can now use this within a larger function to work out the closest 3 tubes to \n",
    "our requested addresses."
   ]
  },
  {
   "cell_type": "code",
   "execution_count": 13,
   "metadata": {
    "collapsed": false
   },
   "outputs": [
    {
     "name": "stdout",
     "output_type": "stream",
     "text": [
      "Requirement already satisfied: jgraph in c:\\users\\oliver\\anaconda3\\lib\\site-packages\n",
      "Requirement already satisfied: ipython in c:\\users\\oliver\\anaconda3\\lib\\site-packages (from jgraph)\n"
     ]
    }
   ],
   "source": [
    "!pip install jgraph\n",
    "import jgraph"
   ]
  },
  {
   "cell_type": "markdown",
   "metadata": {},
   "source": []
  }
 ],
 "metadata": {
  "anaconda-cloud": {},
  "kernelspec": {
   "display_name": "Python [default]",
   "language": "python",
   "name": "python3"
  },
  "language_info": {
   "codemirror_mode": {
    "name": "ipython",
    "version": 3
   },
   "file_extension": ".py",
   "mimetype": "text/x-python",
   "name": "python",
   "nbconvert_exporter": "python",
   "pygments_lexer": "ipython3",
   "version": "3.5.2"
  }
 },
 "nbformat": 4,
 "nbformat_minor": 1
}
